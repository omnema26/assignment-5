{
 "cells": [
  {
   "cell_type": "code",
   "execution_count": 8,
   "id": "46425718",
   "metadata": {},
   "outputs": [],
   "source": [
    "#Write a Python class to implement pow(x, n)\n",
    "\n",
    "\n",
    "\n",
    "#Explanation:\n",
    "\n",
    "#Use should be able to find the nth power of the x.(i.e x*x*x*x...n times)\n",
    "\n",
    "#You must implement it using Class\n",
    "\n",
    "\n",
    "\n",
    "#Sample Input:\n",
    "\n",
    "x: 10\n",
    "\n",
    "n: 2\n",
    "\n",
    "\n",
    "\n",
    "#Sample Output:\n",
    "\n",
    "#100\n"
   ]
  },
  {
   "cell_type": "code",
   "execution_count": 10,
   "id": "5ca58dae",
   "metadata": {},
   "outputs": [
    {
     "name": "stdout",
     "output_type": "stream",
     "text": [
      "Enter base number - 10\n",
      "Enter power number - 2\n",
      "The Expected output = 100\n"
     ]
    }
   ],
   "source": [
    "#syntax for this\n",
    "\n",
    "from ast import literal_eval\n",
    "class Power:\n",
    "    def __init__(self, x, n ):    \n",
    "        self.x = x\n",
    "        self.n = n\n",
    "        \n",
    "    def power_number(self):                 \n",
    "        res = pow(self.x, self.n)\n",
    "        return res\n",
    "    \n",
    "x = literal_eval(input(\"Enter base number - \"))  \n",
    "n = literal_eval(input(\"Enter power number - \"))          \n",
    "s1 = Power(x,n)\n",
    "print(\"The Expected output =\", s1.power_number()) "
   ]
  },
  {
   "cell_type": "code",
   "execution_count": null,
   "id": "dcd23755",
   "metadata": {},
   "outputs": [],
   "source": []
  }
 ],
 "metadata": {
  "kernelspec": {
   "display_name": "Python 3 (ipykernel)",
   "language": "python",
   "name": "python3"
  },
  "language_info": {
   "codemirror_mode": {
    "name": "ipython",
    "version": 3
   },
   "file_extension": ".py",
   "mimetype": "text/x-python",
   "name": "python",
   "nbconvert_exporter": "python",
   "pygments_lexer": "ipython3",
   "version": "3.9.12"
  }
 },
 "nbformat": 4,
 "nbformat_minor": 5
}
